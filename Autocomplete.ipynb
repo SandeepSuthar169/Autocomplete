{
  "nbformat": 4,
  "nbformat_minor": 0,
  "metadata": {
    "colab": {
      "provenance": [],
      "gpuType": "T4"
    },
    "kernelspec": {
      "name": "python3",
      "display_name": "Python 3"
    },
    "language_info": {
      "name": "python"
    },
    "accelerator": "GPU"
  },
  "cells": [
    {
      "cell_type": "code",
      "execution_count": 3,
      "metadata": {
        "id": "gN6XulfRY3tk"
      },
      "outputs": [],
      "source": [
        "faqs = \"\"\" He was an old man who fished alone in a skiff in the Gulf Stream and he had gone\n",
        "eighty-four days now without taking a fish. In the first forty days a boy had been with him.\n",
        "But after forty days without a fish the boy’s parents had told him that the old man was\n",
        "now definitely and finally salao, which is the worst form of unlucky, and the boy had gone\n",
        "at their orders in another boat which caught three good fish the first week. It made the\n",
        "boy sad to see the old man come in each day with his skiff empty and he always went\n",
        "down to help him carry either the coiled lines or the gaff and harpoon and the sail that\n",
        "was furled around the mast. The sail was patched with flour sacks and, furled, it looked\n",
        "like the flag of permanent defeat.\n",
        "The old man was thin and gaunt with deep wrinkles in the back of his neck. The\n",
        "brown blotches of the benevolent skin cancer the sun brings from its [9] reflection on the\n",
        "tropic sea were on his cheeks. The blotches ran well down the sides of his face and his\n",
        "hands had the deep-creased scars from handling heavy fish on the cords. But none of\n",
        "these scars were fresh. They were as old as erosions in a fishless desert.\n",
        "Everything about him was old except his eyes and they were the same color as the\n",
        "sea and were cheerful and undefeated.\n",
        "“Santiago,” the boy said to him as they climbed the bank from where the skiff was\n",
        "hauled up. “I could go with you again. We’ve made some money.”\n",
        "The old man had taught the boy to fish and the boy loved him.\n",
        "“No,” the old man said. “You’re with a lucky boat. Stay with them.”\n",
        "“But remember how you went eighty-seven days without fish and then we caught big\n",
        "ones every day for three weeks.”  - 1 -\n",
        "The Old Man and the Sea                                              Asiaing.com\n",
        " “I remember,” the old man said. “I know you did not leave me because you doubted.”\n",
        "“It was papa made me leave. I am a boy and I must obey him.”\n",
        "“I know,” the old man said. “It is quite normal.”\n",
        "“He hasn’t much faith.”\n",
        "[10] “No,” the old man said. “But we have. Haven’t we?”\n",
        "“Yes,” the boy said. “Can I offer you a beer on the Terrace and then we’ll take the stuff\n",
        "home.”\n",
        "“Why not?” the old man said. “Between fishermen.”\n",
        "They sat on the Terrace and many of the fishermen made fun of the old man and he\n",
        "was noteangry. Others, of the older fishermen, looked at him and were sad. But they did\n",
        "not show it and they spoke politely about the current and the depths they had drifted\n",
        "their lines at and the steady good weather and of what they had seen. The successful\n",
        "fishermen of that day were already in and had butchered their marlin out and carried\n",
        "them laid full length across two planks, with two men staggering at the end of each plank,\n",
        "to the fish house where they waited for the ice truck to carry them to the market in\n",
        "Havana. Those who had caught sharks had taken them to the shark factory on the other\n",
        "side of the cove where they were hoisted on a block and tackle, their livers removed, their\n",
        "fins cut off and their hides skinned out and their flesh cut into strips for salting.\n",
        "When the wind was in the east a smell came across the harbour from the shark\n",
        "factory; but today there [11] was only the faint edge of the odour because the wind had\n",
        "backed into the north and then dropped off and it was pleasant and sunny on the Terrace.\n",
        "“Santiago,” the boy said.\n",
        "“Yes,” the old man said. He was holding his glass and thinking of many years ago.\n",
        "“Can I go out to get sardines for you for tomorrow?”\n",
        "“No. Go and play baseball. I can still row and Rogelio will throw the net.”\n",
        "“I would like to go. If I cannot fish with you. I would like to serve in some way.”\n",
        "“You bought me a beer,” the old man said. “You are already a man.”\n",
        "“How old was I when you first took me in a boat?”\n",
        "“Five and you nearly were killed when I brought the fish in too green and he nearly\n",
        "tore the boat to pieces. Can you remember?”\n",
        "“I can remember the tail slapping and banging and the thwart breaking and the\n",
        "noise of the clubbing. I can remember you throwing me into the bow where the wet coiled\n",
        "lines were and feeling the whole boat shiver and the noise of you clubbing him like\n",
        "chopping a tree down and the sweet blood smell all over me.”\n",
        "[12] “Can you really remember that or did I just tell it to you?”  - 2 -\n",
        "The Old Man and the Sea                                              Asiaing.com\n",
        " “I remember everything from when we first went together.”\n",
        "The old man looked at him with his sun-burned, confident loving eyes.\n",
        "“If you were my boy I’d take you out and gamble,” he said. “But you are your father’s\n",
        "and your mother’s and you are in a lucky boat.”\n",
        "“May I get the sardines? I know where I can get four baits too.”\n",
        "“I have mine left from today. I put them in salt in the box.”\n",
        "“Let me get four fresh ones.”\n",
        "“One,” the old man said. His hope and his confidence had never gone. But now they\n",
        "were freshening as when the breeze rises.\n",
        "“Two,” the boy said.\n",
        "“Two,” the old man agreed. “You didn’t steal them?”\n",
        "“I would,” the boy said. “But I bought these.”\n",
        "“Thank you,” the old man said. He was too simple to wonder when he had attained\n",
        "humility. But he [13] knew he had attained it and he knew it was not disgraceful and it\n",
        "carried no loss of true pride.\n",
        "“Tomorrow is going to be a good day with this current,” he said.\n",
        "“Where are you going?” the boy asked.\n",
        "“Far out to come in when the wind shifts. I want to be out before it is light.”\n",
        "“I’ll try to get him to work far out,” the boy said. “Then if you hook something truly\n",
        "big we can come to your aid.”\n",
        "“He does not like to work too far out.”\n",
        "“No,” the boy said. “But I will see something that he cannot see such as a bird\n",
        "working and get\n",
        "him to come out after dolphin.” “Are his eyes that bad?” “He is almost blind.” “It is\n",
        "strange,” the old man said. “He never went turtle-ing. That is what kills the eyes.” “But\n",
        "you went turtle-ing for years off the Mosquito Coast and your eyes are good.”\n",
        "“I am a strange old man”\n",
        "“But are you strong enough now for a truly big fish?”\n",
        "“I think so. And there are many tricks.”\n",
        "[14] “Let us take the stuff home,” the boy said. “So I can get the cast net and go after\n",
        "the sardines.”\n",
        "They picked up the gear from the boat. The old man carried the mast on his shoulder\n",
        " and the boy carried the wooden boat with the coiled, hard-braided brown lines, the gaff\n",
        "and the harpoon with its shaft. The box with the baits was under the stern of the skiff\n",
        "along with the club that was used to subdue the big fish when they were brought\n",
        "alongside. No one would steal from the old man but it was better to take the sail and the\n",
        "heavy lines home as the dew was bad for them and, though he was quite sure no local\n",
        "people would steal from him, the old man thought that a gaff and a harpoon were\n",
        "needless temptations to leave in a boat.\n",
        "They walked up the road together to the old man’s shack and went in through its\n",
        "open door. The old man leaned the mast with its wrapped sail against the wall and the\n",
        "boy put the box and the other gear beside it. The mast was nearly as long as the one room\n",
        "of the shack. The shack was made of the tough budshields of the royal palm which are\n",
        "called guano and in it there was a bed, a table, one chair, and a place on the dirt floor to\n",
        "cook with charcoal. On the brown walls of the flattened, overlapping leaves of the sturdy\n",
        "fibered [15] guano there was a picture in color of the Sacred Heart of Jesus and another\n",
        "of the Virgin of Cobre. These were relics of his wife. Once there had been a tinted\n",
        "photograph of his wife on the wall but he had taken it down because it made him too\n",
        "lonely to see it and it was on the shelf in the corner under his clean shirt.\n",
        "“What do you have to eat?” the boy asked.\n",
        "“A pot of yellow rice with fish. Do you want some?”\n",
        "“No. I will eat at home. Do you want me to make the fire?”\n",
        "“No. I will make it later on. Or I may eat the rice cold.”\n",
        "“May I take the cast net?”\n",
        "“Of course.”\n",
        "There was no cast net and the boy remembered when they had sold it. But they went\n",
        "through\n",
        "this fiction every day. There was no pot of yellow rice and fish and the boy knew this\n",
        "too. “Eighty-five is a lucky number,” the old man said. “How would you like to see me\n",
        "bring one in that dressed out over a thousand pounds?” “I’ll get the cast net and go for\n",
        "sardines. Will you sit in the sun in the doorway?”\n",
        "[16] “Yes. I have yesterday’s paper and I will read the baseball.” The boy did not\n",
        "know whether yesterday’s paper was a fiction too. But the old man brought it out from\n",
        "under the bed.\n",
        "“Perico gave it to me at the bodega,” he explained. “I’ll be back when I have the\n",
        "sardines. I’ll keep yours and mine together on ice and we can share them in the morning.\n",
        "When I come back you can tell me about the baseball.”\n",
        "“The Yankees cannot lose.”\n",
        "“But I fear the Indians of Cleveland.”  - 4 -\n",
        "The Old Man and the Sea                                              Asiaing.com\n",
        " “Have faith in the Yankees my son. Think of the great DiMaggio.”\n",
        "“I fear both the Tigers of Detroit and the Indians of Cleveland.”\n",
        "“Be careful or you will fear even the Reds of Cincinnati and the White Sax of\n",
        "Chicago.”\n",
        "“You study it and tell me when I come back.”\n",
        "“Do you think we should buy a terminal of the lottery with an eighty-five? Tomorrow\n",
        "is the\n",
        "eighty-fifth day.” “We can do that,” the boy said. “But what about the eighty-seven of\n",
        "your great record?”\n",
        "[17] “It could not happen twice. Do you think you can find an eighty-five?”\n",
        "“I can order one.\n",
        "“One sheet. That’s two dollars and a half. Who can we borrow that from?”\n",
        "“That’s easy. I can always borrow two dollars and a half.”\n",
        "“I think perhaps I can too. But I try not to borrow. First you borrow. Then you beg.”\n",
        "“Keep warm old man,” the boy said. “Remember we are in September.”\n",
        "“The month when the great fish come,” the old man said. “Anyone can be a\n",
        "fisherman in May.”\n",
        "“I go now for the sardines,” the boy said.\n",
        "When the boy came back the old man was asleep in the chair and the sun was down.\n",
        "The boy took the old army blanket off the bed and spread it over the back of the chair and\n",
        "over the old man’s shoulders. They were strange shoulders, still powerful although very\n",
        "old, and the neck was still strong too and the creases did not show so much when the old\n",
        "man was asleep and his head fallen forward. His shirt had been patched so many times\n",
        "that it was like the sail and the patches were faded to many different shades by the sun.\n",
        "The [18] old man’s head was very old though and with his eyes closed there was no life in\n",
        "his face. The newspaper lay across his knees and the weight of his arm held it there in the\n",
        "evening breeze. He was barefooted.\n",
        "The boy left him there and when he came back the old man was still asleep.\n",
        "“Wake up old man,” the boy said and put his hand on one of the old man’s knees.\n",
        "The old man opened his eyes and for a moment he was coming back from a long way\n",
        "away. Then he smiled.\n",
        "“What have you got?” he asked.\n",
        "“Supper,” said the boy. “We’re going to have supper.”  - 5 -\n",
        "The Old Man and the Sea                                              Asiaing.com\n",
        " “I’m not very hungry.”\n",
        "“Come on and eat. You can’t fish and not eat.”\n",
        "“I have,” the old man said getting up and taking the newspaper and folding it. Then\n",
        "he started to fold the blanket.\n",
        "“Keep the blanket around you,” the boy said. “You’ll not fish without eating while I’m\n",
        "alive.”\n",
        "“Then live a long time and take care of yourself,” the old man said. “What are we\n",
        "eating?”\n",
        "“Black beans and rice, fried bananas, and some stew.”\n",
        "[19] The boy had brought them in a two-decker metal container from the Terrace.\n",
        "The two sets of knives and forks and spoons were in his pocket with a paper napkin\n",
        "wrapped around each set.\n",
        "“Who gave this to you?”\n",
        "“Martin. The owner.”\n",
        "“I must thank him.”\n",
        "“I thanked him already,” the boy said. “You don’t need to thank him.”\n",
        "“I’ll give him the belly meat of a big fish,” the old man said. “Has he done this for us\n",
        "more than once?”\n",
        "“I think so.”\n",
        "“I must give him something more than the belly meat then. He is very thoughtful for\n",
        "us.”\n",
        "“He sent two beers.”\n",
        "“I like the beer in cans best.”\n",
        "“I know. But this is in bottles, Hatuey beer, and I take back the bottles.”\n",
        "“That’s very kind of you,” the old man said. “Should we eat?”\n",
        "“I’ve been asking you to,” the boy told him gently. “I have not wished to open the\n",
        "container until you were ready.”\n",
        "[20] “I’m ready now,” the old man said. “I only needed time to wash.”\n",
        "Where did you wash? the boy thought. The village water supply was two streets\n",
        "down the road. I must have water here for him, the boy thought, and soap and a good\n",
        "towel. Why am I so thoughtless? I must get him another shirt and a jacket for the winter\n",
        "and some sort of shoes and another blanket.\n",
        "\"\"\""
      ]
    },
    {
      "cell_type": "code",
      "source": [
        "import tensorflow as tf\n",
        "from tensorflow.keras.preprocessing.text import Tokenizer"
      ],
      "metadata": {
        "id": "wTpzKUY5hZ-k"
      },
      "execution_count": 4,
      "outputs": []
    },
    {
      "cell_type": "code",
      "source": [
        "tokenizer = Tokenizer()"
      ],
      "metadata": {
        "id": "x5B0OqsYhy5a"
      },
      "execution_count": 5,
      "outputs": []
    },
    {
      "cell_type": "code",
      "source": [
        "tokenizer.fit_on_texts([faqs])"
      ],
      "metadata": {
        "id": "nbv_k0Mmh3MO"
      },
      "execution_count": 6,
      "outputs": []
    },
    {
      "cell_type": "code",
      "source": [
        "len(tokenizer.word_index)"
      ],
      "metadata": {
        "colab": {
          "base_uri": "https://localhost:8080/"
        },
        "id": "cL3q1XuZiHZX",
        "outputId": "58242414-a05d-4c44-d832-355b59aed79e"
      },
      "execution_count": 7,
      "outputs": [
        {
          "output_type": "execute_result",
          "data": {
            "text/plain": [
              "716"
            ]
          },
          "metadata": {},
          "execution_count": 7
        }
      ]
    },
    {
      "cell_type": "code",
      "source": [
        "input_sequences = []\n",
        "\n",
        "for sentence in faqs.split(\"/n\"):\n",
        "  tokenizer_sentence = tokenizer.texts_to_sequences([sentence])[0]\n",
        "\n",
        "  for i in range(1, len(tokenizer_sentence)):\n",
        "    input_sequences.append(tokenizer_sentence[:i+1])"
      ],
      "metadata": {
        "id": "ME0g2xqdiLu7"
      },
      "execution_count": 8,
      "outputs": []
    },
    {
      "cell_type": "code",
      "source": [
        "input_sequences"
      ],
      "metadata": {
        "id": "RfNuOYrYizDN"
      },
      "execution_count": null,
      "outputs": []
    },
    {
      "cell_type": "code",
      "source": [
        "max_len =max([len(x) for x in input_sequences])\n",
        "print(max_len)"
      ],
      "metadata": {
        "colab": {
          "base_uri": "https://localhost:8080/"
        },
        "id": "-49WZ0YqjTwm",
        "outputId": "f4a75611-ce26-40de-ef33-83ac458cc743"
      },
      "execution_count": 10,
      "outputs": [
        {
          "output_type": "stream",
          "name": "stdout",
          "text": [
            "2581\n"
          ]
        }
      ]
    },
    {
      "cell_type": "code",
      "source": [
        "from tensorflow.keras.preprocessing.sequence import pad_sequences\n",
        "padded_input_sequences = pad_sequences(input_sequences, maxlen = max_len, padding=\"pre\")"
      ],
      "metadata": {
        "id": "jp6Lf8Hyj7Rv"
      },
      "execution_count": 11,
      "outputs": []
    },
    {
      "cell_type": "code",
      "source": [
        "padded_input_sequences"
      ],
      "metadata": {
        "colab": {
          "base_uri": "https://localhost:8080/"
        },
        "id": "9BvCfdmpkX9s",
        "outputId": "c2f22b8c-596d-4e72-8f9f-ee325bf71b59"
      },
      "execution_count": 12,
      "outputs": [
        {
          "output_type": "execute_result",
          "data": {
            "text/plain": [
              "array([[  0,   0,   0, ...,   0,  15,  10],\n",
              "       [  0,   0,   0, ...,  15,  10, 122],\n",
              "       [  0,   0,   0, ...,  10, 122,   4],\n",
              "       ...,\n",
              "       [  0,   0,  15, ...,   5, 716,   3],\n",
              "       [  0,  15,  10, ..., 716,   3,  98],\n",
              "       [ 15,  10, 122, ...,   3,  98, 121]], dtype=int32)"
            ]
          },
          "metadata": {},
          "execution_count": 12
        }
      ]
    },
    {
      "cell_type": "code",
      "source": [
        "x = padded_input_sequences[:,:-1]\n",
        "x"
      ],
      "metadata": {
        "colab": {
          "base_uri": "https://localhost:8080/"
        },
        "id": "KXL1cekCkiqH",
        "outputId": "081f569c-8388-4596-9f19-a0f0ff12b282"
      },
      "execution_count": 13,
      "outputs": [
        {
          "output_type": "execute_result",
          "data": {
            "text/plain": [
              "array([[  0,   0,   0, ...,   0,   0,  15],\n",
              "       [  0,   0,   0, ...,   0,  15,  10],\n",
              "       [  0,   0,   0, ...,  15,  10, 122],\n",
              "       ...,\n",
              "       [  0,   0,  15, ..., 715,   5, 716],\n",
              "       [  0,  15,  10, ...,   5, 716,   3],\n",
              "       [ 15,  10, 122, ..., 716,   3,  98]], dtype=int32)"
            ]
          },
          "metadata": {},
          "execution_count": 13
        }
      ]
    },
    {
      "cell_type": "code",
      "source": [
        "x.shape"
      ],
      "metadata": {
        "colab": {
          "base_uri": "https://localhost:8080/"
        },
        "id": "10TUuHyNkwgp",
        "outputId": "09042a97-e4f0-49f8-a1cf-c8c70699a1d3"
      },
      "execution_count": 14,
      "outputs": [
        {
          "output_type": "execute_result",
          "data": {
            "text/plain": [
              "(2580, 2580)"
            ]
          },
          "metadata": {},
          "execution_count": 14
        }
      ]
    },
    {
      "cell_type": "code",
      "source": [
        "y= padded_input_sequences[:,-1]\n",
        "y"
      ],
      "metadata": {
        "colab": {
          "base_uri": "https://localhost:8080/"
        },
        "id": "MYA1t_G4kmpy",
        "outputId": "c0d46db8-5995-45ba-eb40-f489697f0f74"
      },
      "execution_count": 15,
      "outputs": [
        {
          "output_type": "execute_result",
          "data": {
            "text/plain": [
              "array([ 10, 122,   4, ...,   3,  98, 121], dtype=int32)"
            ]
          },
          "metadata": {},
          "execution_count": 15
        }
      ]
    },
    {
      "cell_type": "code",
      "source": [
        "y.shape"
      ],
      "metadata": {
        "colab": {
          "base_uri": "https://localhost:8080/"
        },
        "id": "hWtAxRnYkrnz",
        "outputId": "5d8919f2-7ead-4a61-ac02-ec66175b0812"
      },
      "execution_count": 16,
      "outputs": [
        {
          "output_type": "execute_result",
          "data": {
            "text/plain": [
              "(2580,)"
            ]
          },
          "metadata": {},
          "execution_count": 16
        }
      ]
    },
    {
      "cell_type": "code",
      "source": [
        "from tensorflow.keras.utils import to_categorical\n",
        "y= to_categorical(y, num_classes =717)"
      ],
      "metadata": {
        "id": "s81J0GBZkzE8"
      },
      "execution_count": 17,
      "outputs": []
    },
    {
      "cell_type": "code",
      "source": [
        "y.shape"
      ],
      "metadata": {
        "colab": {
          "base_uri": "https://localhost:8080/"
        },
        "id": "i771Egbalnua",
        "outputId": "5a92ff7d-613a-414b-92d8-62dad808ada1"
      },
      "execution_count": 18,
      "outputs": [
        {
          "output_type": "execute_result",
          "data": {
            "text/plain": [
              "(2580, 717)"
            ]
          },
          "metadata": {},
          "execution_count": 18
        }
      ]
    },
    {
      "cell_type": "code",
      "source": [
        "from tensorflow.keras.models import Sequential\n",
        "from tensorflow.keras.layers import  Embedding, LSTM, Dense"
      ],
      "metadata": {
        "id": "RhQwN_05lMJy"
      },
      "execution_count": 19,
      "outputs": []
    },
    {
      "cell_type": "code",
      "source": [
        "model = Sequential()\n",
        "model.add(Embedding(717, 100, input_length =2580))\n",
        "model.add(LSTM(150))\n",
        "model.add(Dense(717, activation= \"softmax\"))"
      ],
      "metadata": {
        "colab": {
          "base_uri": "https://localhost:8080/"
        },
        "id": "b2q56IRIld5v",
        "outputId": "730cbae1-4593-4844-c202-7de60f177a2f"
      },
      "execution_count": 20,
      "outputs": [
        {
          "output_type": "stream",
          "name": "stderr",
          "text": [
            "/usr/local/lib/python3.11/dist-packages/keras/src/layers/core/embedding.py:90: UserWarning: Argument `input_length` is deprecated. Just remove it.\n",
            "  warnings.warn(\n"
          ]
        }
      ]
    },
    {
      "cell_type": "code",
      "source": [
        "model.compile(loss=\"categorical_crossentropy\",\n",
        "              optimizer=\"Adam\",\n",
        "              metrics=[\"accuracy\"])"
      ],
      "metadata": {
        "id": "hR5dS2QYl6LU"
      },
      "execution_count": 21,
      "outputs": []
    },
    {
      "cell_type": "code",
      "source": [
        "model.summary()"
      ],
      "metadata": {
        "colab": {
          "base_uri": "https://localhost:8080/",
          "height": 225
        },
        "id": "KOLB1aD8mggR",
        "outputId": "27dbad20-f5c9-4683-ccac-14d83039c5cf"
      },
      "execution_count": 22,
      "outputs": [
        {
          "output_type": "display_data",
          "data": {
            "text/plain": [
              "\u001b[1mModel: \"sequential\"\u001b[0m\n"
            ],
            "text/html": [
              "<pre style=\"white-space:pre;overflow-x:auto;line-height:normal;font-family:Menlo,'DejaVu Sans Mono',consolas,'Courier New',monospace\"><span style=\"font-weight: bold\">Model: \"sequential\"</span>\n",
              "</pre>\n"
            ]
          },
          "metadata": {}
        },
        {
          "output_type": "display_data",
          "data": {
            "text/plain": [
              "┏━━━━━━━━━━━━━━━━━━━━━━━━━━━━━━━━━━━━━━┳━━━━━━━━━━━━━━━━━━━━━━━━━━━━━┳━━━━━━━━━━━━━━━━━┓\n",
              "┃\u001b[1m \u001b[0m\u001b[1mLayer (type)                        \u001b[0m\u001b[1m \u001b[0m┃\u001b[1m \u001b[0m\u001b[1mOutput Shape               \u001b[0m\u001b[1m \u001b[0m┃\u001b[1m \u001b[0m\u001b[1m        Param #\u001b[0m\u001b[1m \u001b[0m┃\n",
              "┡━━━━━━━━━━━━━━━━━━━━━━━━━━━━━━━━━━━━━━╇━━━━━━━━━━━━━━━━━━━━━━━━━━━━━╇━━━━━━━━━━━━━━━━━┩\n",
              "│ embedding (\u001b[38;5;33mEmbedding\u001b[0m)                │ ?                           │     \u001b[38;5;34m0\u001b[0m (unbuilt) │\n",
              "├──────────────────────────────────────┼─────────────────────────────┼─────────────────┤\n",
              "│ lstm (\u001b[38;5;33mLSTM\u001b[0m)                          │ ?                           │     \u001b[38;5;34m0\u001b[0m (unbuilt) │\n",
              "├──────────────────────────────────────┼─────────────────────────────┼─────────────────┤\n",
              "│ dense (\u001b[38;5;33mDense\u001b[0m)                        │ ?                           │     \u001b[38;5;34m0\u001b[0m (unbuilt) │\n",
              "└──────────────────────────────────────┴─────────────────────────────┴─────────────────┘\n"
            ],
            "text/html": [
              "<pre style=\"white-space:pre;overflow-x:auto;line-height:normal;font-family:Menlo,'DejaVu Sans Mono',consolas,'Courier New',monospace\">┏━━━━━━━━━━━━━━━━━━━━━━━━━━━━━━━━━━━━━━┳━━━━━━━━━━━━━━━━━━━━━━━━━━━━━┳━━━━━━━━━━━━━━━━━┓\n",
              "┃<span style=\"font-weight: bold\"> Layer (type)                         </span>┃<span style=\"font-weight: bold\"> Output Shape                </span>┃<span style=\"font-weight: bold\">         Param # </span>┃\n",
              "┡━━━━━━━━━━━━━━━━━━━━━━━━━━━━━━━━━━━━━━╇━━━━━━━━━━━━━━━━━━━━━━━━━━━━━╇━━━━━━━━━━━━━━━━━┩\n",
              "│ embedding (<span style=\"color: #0087ff; text-decoration-color: #0087ff\">Embedding</span>)                │ ?                           │     <span style=\"color: #00af00; text-decoration-color: #00af00\">0</span> (unbuilt) │\n",
              "├──────────────────────────────────────┼─────────────────────────────┼─────────────────┤\n",
              "│ lstm (<span style=\"color: #0087ff; text-decoration-color: #0087ff\">LSTM</span>)                          │ ?                           │     <span style=\"color: #00af00; text-decoration-color: #00af00\">0</span> (unbuilt) │\n",
              "├──────────────────────────────────────┼─────────────────────────────┼─────────────────┤\n",
              "│ dense (<span style=\"color: #0087ff; text-decoration-color: #0087ff\">Dense</span>)                        │ ?                           │     <span style=\"color: #00af00; text-decoration-color: #00af00\">0</span> (unbuilt) │\n",
              "└──────────────────────────────────────┴─────────────────────────────┴─────────────────┘\n",
              "</pre>\n"
            ]
          },
          "metadata": {}
        },
        {
          "output_type": "display_data",
          "data": {
            "text/plain": [
              "\u001b[1m Total params: \u001b[0m\u001b[38;5;34m0\u001b[0m (0.00 B)\n"
            ],
            "text/html": [
              "<pre style=\"white-space:pre;overflow-x:auto;line-height:normal;font-family:Menlo,'DejaVu Sans Mono',consolas,'Courier New',monospace\"><span style=\"font-weight: bold\"> Total params: </span><span style=\"color: #00af00; text-decoration-color: #00af00\">0</span> (0.00 B)\n",
              "</pre>\n"
            ]
          },
          "metadata": {}
        },
        {
          "output_type": "display_data",
          "data": {
            "text/plain": [
              "\u001b[1m Trainable params: \u001b[0m\u001b[38;5;34m0\u001b[0m (0.00 B)\n"
            ],
            "text/html": [
              "<pre style=\"white-space:pre;overflow-x:auto;line-height:normal;font-family:Menlo,'DejaVu Sans Mono',consolas,'Courier New',monospace\"><span style=\"font-weight: bold\"> Trainable params: </span><span style=\"color: #00af00; text-decoration-color: #00af00\">0</span> (0.00 B)\n",
              "</pre>\n"
            ]
          },
          "metadata": {}
        },
        {
          "output_type": "display_data",
          "data": {
            "text/plain": [
              "\u001b[1m Non-trainable params: \u001b[0m\u001b[38;5;34m0\u001b[0m (0.00 B)\n"
            ],
            "text/html": [
              "<pre style=\"white-space:pre;overflow-x:auto;line-height:normal;font-family:Menlo,'DejaVu Sans Mono',consolas,'Courier New',monospace\"><span style=\"font-weight: bold\"> Non-trainable params: </span><span style=\"color: #00af00; text-decoration-color: #00af00\">0</span> (0.00 B)\n",
              "</pre>\n"
            ]
          },
          "metadata": {}
        }
      ]
    },
    {
      "cell_type": "code",
      "source": [
        "model.fit(x,y,epochs=50)"
      ],
      "metadata": {
        "colab": {
          "base_uri": "https://localhost:8080/"
        },
        "id": "0AL92m4cmkT4",
        "outputId": "0da6233d-8503-47f3-bf18-fb7faf3b3526"
      },
      "execution_count": 23,
      "outputs": [
        {
          "output_type": "stream",
          "name": "stdout",
          "text": [
            "Epoch 1/50\n",
            "\u001b[1m81/81\u001b[0m \u001b[32m━━━━━━━━━━━━━━━━━━━━\u001b[0m\u001b[37m\u001b[0m \u001b[1m12s\u001b[0m 90ms/step - accuracy: 0.0716 - loss: 6.1767\n",
            "Epoch 2/50\n",
            "\u001b[1m81/81\u001b[0m \u001b[32m━━━━━━━━━━━━━━━━━━━━\u001b[0m\u001b[37m\u001b[0m \u001b[1m8s\u001b[0m 87ms/step - accuracy: 0.0844 - loss: 5.5418\n",
            "Epoch 3/50\n",
            "\u001b[1m81/81\u001b[0m \u001b[32m━━━━━━━━━━━━━━━━━━━━\u001b[0m\u001b[37m\u001b[0m \u001b[1m10s\u001b[0m 88ms/step - accuracy: 0.1015 - loss: 5.3368\n",
            "Epoch 4/50\n",
            "\u001b[1m81/81\u001b[0m \u001b[32m━━━━━━━━━━━━━━━━━━━━\u001b[0m\u001b[37m\u001b[0m \u001b[1m10s\u001b[0m 91ms/step - accuracy: 0.1363 - loss: 5.1640\n",
            "Epoch 5/50\n",
            "\u001b[1m81/81\u001b[0m \u001b[32m━━━━━━━━━━━━━━━━━━━━\u001b[0m\u001b[37m\u001b[0m \u001b[1m10s\u001b[0m 92ms/step - accuracy: 0.1506 - loss: 4.8860\n",
            "Epoch 6/50\n",
            "\u001b[1m81/81\u001b[0m \u001b[32m━━━━━━━━━━━━━━━━━━━━\u001b[0m\u001b[37m\u001b[0m \u001b[1m10s\u001b[0m 92ms/step - accuracy: 0.1697 - loss: 4.6910\n",
            "Epoch 7/50\n",
            "\u001b[1m81/81\u001b[0m \u001b[32m━━━━━━━━━━━━━━━━━━━━\u001b[0m\u001b[37m\u001b[0m \u001b[1m10s\u001b[0m 91ms/step - accuracy: 0.1769 - loss: 4.5310\n",
            "Epoch 8/50\n",
            "\u001b[1m81/81\u001b[0m \u001b[32m━━━━━━━━━━━━━━━━━━━━\u001b[0m\u001b[37m\u001b[0m \u001b[1m7s\u001b[0m 88ms/step - accuracy: 0.2060 - loss: 4.2441\n",
            "Epoch 9/50\n",
            "\u001b[1m81/81\u001b[0m \u001b[32m━━━━━━━━━━━━━━━━━━━━\u001b[0m\u001b[37m\u001b[0m \u001b[1m11s\u001b[0m 92ms/step - accuracy: 0.2143 - loss: 4.0813\n",
            "Epoch 10/50\n",
            "\u001b[1m81/81\u001b[0m \u001b[32m━━━━━━━━━━━━━━━━━━━━\u001b[0m\u001b[37m\u001b[0m \u001b[1m10s\u001b[0m 92ms/step - accuracy: 0.2155 - loss: 3.9390\n",
            "Epoch 11/50\n",
            "\u001b[1m81/81\u001b[0m \u001b[32m━━━━━━━━━━━━━━━━━━━━\u001b[0m\u001b[37m\u001b[0m \u001b[1m7s\u001b[0m 90ms/step - accuracy: 0.2321 - loss: 3.7909\n",
            "Epoch 12/50\n",
            "\u001b[1m81/81\u001b[0m \u001b[32m━━━━━━━━━━━━━━━━━━━━\u001b[0m\u001b[37m\u001b[0m \u001b[1m7s\u001b[0m 91ms/step - accuracy: 0.2619 - loss: 3.6091\n",
            "Epoch 13/50\n",
            "\u001b[1m81/81\u001b[0m \u001b[32m━━━━━━━━━━━━━━━━━━━━\u001b[0m\u001b[37m\u001b[0m \u001b[1m8s\u001b[0m 93ms/step - accuracy: 0.2681 - loss: 3.4567\n",
            "Epoch 14/50\n",
            "\u001b[1m81/81\u001b[0m \u001b[32m━━━━━━━━━━━━━━━━━━━━\u001b[0m\u001b[37m\u001b[0m \u001b[1m10s\u001b[0m 94ms/step - accuracy: 0.3003 - loss: 3.3001\n",
            "Epoch 15/50\n",
            "\u001b[1m81/81\u001b[0m \u001b[32m━━━━━━━━━━━━━━━━━━━━\u001b[0m\u001b[37m\u001b[0m \u001b[1m10s\u001b[0m 92ms/step - accuracy: 0.3134 - loss: 3.1530\n",
            "Epoch 16/50\n",
            "\u001b[1m81/81\u001b[0m \u001b[32m━━━━━━━━━━━━━━━━━━━━\u001b[0m\u001b[37m\u001b[0m \u001b[1m10s\u001b[0m 91ms/step - accuracy: 0.3433 - loss: 2.9572\n",
            "Epoch 17/50\n",
            "\u001b[1m81/81\u001b[0m \u001b[32m━━━━━━━━━━━━━━━━━━━━\u001b[0m\u001b[37m\u001b[0m \u001b[1m10s\u001b[0m 91ms/step - accuracy: 0.3577 - loss: 2.8937\n",
            "Epoch 18/50\n",
            "\u001b[1m81/81\u001b[0m \u001b[32m━━━━━━━━━━━━━━━━━━━━\u001b[0m\u001b[37m\u001b[0m \u001b[1m10s\u001b[0m 91ms/step - accuracy: 0.3548 - loss: 2.7908\n",
            "Epoch 19/50\n",
            "\u001b[1m81/81\u001b[0m \u001b[32m━━━━━━━━━━━━━━━━━━━━\u001b[0m\u001b[37m\u001b[0m \u001b[1m8s\u001b[0m 94ms/step - accuracy: 0.4065 - loss: 2.5730\n",
            "Epoch 20/50\n",
            "\u001b[1m81/81\u001b[0m \u001b[32m━━━━━━━━━━━━━━━━━━━━\u001b[0m\u001b[37m\u001b[0m \u001b[1m7s\u001b[0m 91ms/step - accuracy: 0.4258 - loss: 2.4995\n",
            "Epoch 21/50\n",
            "\u001b[1m81/81\u001b[0m \u001b[32m━━━━━━━━━━━━━━━━━━━━\u001b[0m\u001b[37m\u001b[0m \u001b[1m10s\u001b[0m 91ms/step - accuracy: 0.4458 - loss: 2.3714\n",
            "Epoch 22/50\n",
            "\u001b[1m81/81\u001b[0m \u001b[32m━━━━━━━━━━━━━━━━━━━━\u001b[0m\u001b[37m\u001b[0m \u001b[1m10s\u001b[0m 90ms/step - accuracy: 0.5066 - loss: 2.1966\n",
            "Epoch 23/50\n",
            "\u001b[1m81/81\u001b[0m \u001b[32m━━━━━━━━━━━━━━━━━━━━\u001b[0m\u001b[37m\u001b[0m \u001b[1m11s\u001b[0m 94ms/step - accuracy: 0.5522 - loss: 2.0547\n",
            "Epoch 24/50\n",
            "\u001b[1m81/81\u001b[0m \u001b[32m━━━━━━━━━━━━━━━━━━━━\u001b[0m\u001b[37m\u001b[0m \u001b[1m8s\u001b[0m 94ms/step - accuracy: 0.5655 - loss: 1.9422\n",
            "Epoch 25/50\n",
            "\u001b[1m81/81\u001b[0m \u001b[32m━━━━━━━━━━━━━━━━━━━━\u001b[0m\u001b[37m\u001b[0m \u001b[1m10s\u001b[0m 95ms/step - accuracy: 0.6175 - loss: 1.8239\n",
            "Epoch 26/50\n",
            "\u001b[1m81/81\u001b[0m \u001b[32m━━━━━━━━━━━━━━━━━━━━\u001b[0m\u001b[37m\u001b[0m \u001b[1m10s\u001b[0m 92ms/step - accuracy: 0.6288 - loss: 1.6935\n",
            "Epoch 27/50\n",
            "\u001b[1m81/81\u001b[0m \u001b[32m━━━━━━━━━━━━━━━━━━━━\u001b[0m\u001b[37m\u001b[0m \u001b[1m10s\u001b[0m 92ms/step - accuracy: 0.6706 - loss: 1.6264\n",
            "Epoch 28/50\n",
            "\u001b[1m81/81\u001b[0m \u001b[32m━━━━━━━━━━━━━━━━━━━━\u001b[0m\u001b[37m\u001b[0m \u001b[1m10s\u001b[0m 91ms/step - accuracy: 0.7239 - loss: 1.4872\n",
            "Epoch 29/50\n",
            "\u001b[1m81/81\u001b[0m \u001b[32m━━━━━━━━━━━━━━━━━━━━\u001b[0m\u001b[37m\u001b[0m \u001b[1m8s\u001b[0m 95ms/step - accuracy: 0.7436 - loss: 1.4034\n",
            "Epoch 30/50\n",
            "\u001b[1m81/81\u001b[0m \u001b[32m━━━━━━━━━━━━━━━━━━━━\u001b[0m\u001b[37m\u001b[0m \u001b[1m10s\u001b[0m 95ms/step - accuracy: 0.7838 - loss: 1.3102\n",
            "Epoch 31/50\n",
            "\u001b[1m81/81\u001b[0m \u001b[32m━━━━━━━━━━━━━━━━━━━━\u001b[0m\u001b[37m\u001b[0m \u001b[1m7s\u001b[0m 91ms/step - accuracy: 0.7906 - loss: 1.2194\n",
            "Epoch 32/50\n",
            "\u001b[1m81/81\u001b[0m \u001b[32m━━━━━━━━━━━━━━━━━━━━\u001b[0m\u001b[37m\u001b[0m \u001b[1m10s\u001b[0m 92ms/step - accuracy: 0.8078 - loss: 1.1405\n",
            "Epoch 33/50\n",
            "\u001b[1m81/81\u001b[0m \u001b[32m━━━━━━━━━━━━━━━━━━━━\u001b[0m\u001b[37m\u001b[0m \u001b[1m10s\u001b[0m 91ms/step - accuracy: 0.8350 - loss: 1.0771\n",
            "Epoch 34/50\n",
            "\u001b[1m81/81\u001b[0m \u001b[32m━━━━━━━━━━━━━━━━━━━━\u001b[0m\u001b[37m\u001b[0m \u001b[1m8s\u001b[0m 94ms/step - accuracy: 0.8652 - loss: 0.9477\n",
            "Epoch 35/50\n",
            "\u001b[1m81/81\u001b[0m \u001b[32m━━━━━━━━━━━━━━━━━━━━\u001b[0m\u001b[37m\u001b[0m \u001b[1m10s\u001b[0m 94ms/step - accuracy: 0.8768 - loss: 0.8839\n",
            "Epoch 36/50\n",
            "\u001b[1m81/81\u001b[0m \u001b[32m━━━━━━━━━━━━━━━━━━━━\u001b[0m\u001b[37m\u001b[0m \u001b[1m10s\u001b[0m 93ms/step - accuracy: 0.8950 - loss: 0.8289\n",
            "Epoch 37/50\n",
            "\u001b[1m81/81\u001b[0m \u001b[32m━━━━━━━━━━━━━━━━━━━━\u001b[0m\u001b[37m\u001b[0m \u001b[1m8s\u001b[0m 92ms/step - accuracy: 0.9027 - loss: 0.7710\n",
            "Epoch 38/50\n",
            "\u001b[1m81/81\u001b[0m \u001b[32m━━━━━━━━━━━━━━━━━━━━\u001b[0m\u001b[37m\u001b[0m \u001b[1m11s\u001b[0m 95ms/step - accuracy: 0.9147 - loss: 0.7030\n",
            "Epoch 39/50\n",
            "\u001b[1m81/81\u001b[0m \u001b[32m━━━━━━━━━━━━━━━━━━━━\u001b[0m\u001b[37m\u001b[0m \u001b[1m10s\u001b[0m 95ms/step - accuracy: 0.9280 - loss: 0.6580\n",
            "Epoch 40/50\n",
            "\u001b[1m81/81\u001b[0m \u001b[32m━━━━━━━━━━━━━━━━━━━━\u001b[0m\u001b[37m\u001b[0m \u001b[1m10s\u001b[0m 95ms/step - accuracy: 0.9371 - loss: 0.6050\n",
            "Epoch 41/50\n",
            "\u001b[1m81/81\u001b[0m \u001b[32m━━━━━━━━━━━━━━━━━━━━\u001b[0m\u001b[37m\u001b[0m \u001b[1m7s\u001b[0m 91ms/step - accuracy: 0.9453 - loss: 0.5613\n",
            "Epoch 42/50\n",
            "\u001b[1m81/81\u001b[0m \u001b[32m━━━━━━━━━━━━━━━━━━━━\u001b[0m\u001b[37m\u001b[0m \u001b[1m10s\u001b[0m 92ms/step - accuracy: 0.9533 - loss: 0.5277\n",
            "Epoch 43/50\n",
            "\u001b[1m81/81\u001b[0m \u001b[32m━━━━━━━━━━━━━━━━━━━━\u001b[0m\u001b[37m\u001b[0m \u001b[1m10s\u001b[0m 92ms/step - accuracy: 0.9557 - loss: 0.4958\n",
            "Epoch 44/50\n",
            "\u001b[1m81/81\u001b[0m \u001b[32m━━━━━━━━━━━━━━━━━━━━\u001b[0m\u001b[37m\u001b[0m \u001b[1m10s\u001b[0m 95ms/step - accuracy: 0.9607 - loss: 0.4568\n",
            "Epoch 45/50\n",
            "\u001b[1m81/81\u001b[0m \u001b[32m━━━━━━━━━━━━━━━━━━━━\u001b[0m\u001b[37m\u001b[0m \u001b[1m8s\u001b[0m 95ms/step - accuracy: 0.9680 - loss: 0.4132\n",
            "Epoch 46/50\n",
            "\u001b[1m81/81\u001b[0m \u001b[32m━━━━━━━━━━━━━━━━━━━━\u001b[0m\u001b[37m\u001b[0m \u001b[1m10s\u001b[0m 94ms/step - accuracy: 0.9710 - loss: 0.3860\n",
            "Epoch 47/50\n",
            "\u001b[1m81/81\u001b[0m \u001b[32m━━━━━━━━━━━━━━━━━━━━\u001b[0m\u001b[37m\u001b[0m \u001b[1m10s\u001b[0m 91ms/step - accuracy: 0.9800 - loss: 0.3519\n",
            "Epoch 48/50\n",
            "\u001b[1m81/81\u001b[0m \u001b[32m━━━━━━━━━━━━━━━━━━━━\u001b[0m\u001b[37m\u001b[0m \u001b[1m8s\u001b[0m 95ms/step - accuracy: 0.9800 - loss: 0.3284\n",
            "Epoch 49/50\n",
            "\u001b[1m81/81\u001b[0m \u001b[32m━━━━━━━━━━━━━━━━━━━━\u001b[0m\u001b[37m\u001b[0m \u001b[1m10s\u001b[0m 95ms/step - accuracy: 0.9868 - loss: 0.3038\n",
            "Epoch 50/50\n",
            "\u001b[1m81/81\u001b[0m \u001b[32m━━━━━━━━━━━━━━━━━━━━\u001b[0m\u001b[37m\u001b[0m \u001b[1m8s\u001b[0m 93ms/step - accuracy: 0.9889 - loss: 0.2817\n"
          ]
        },
        {
          "output_type": "execute_result",
          "data": {
            "text/plain": [
              "<keras.src.callbacks.history.History at 0x7ac97a702950>"
            ]
          },
          "metadata": {},
          "execution_count": 23
        }
      ]
    },
    {
      "cell_type": "code",
      "source": [
        "import time\n",
        "import numpy as np"
      ],
      "metadata": {
        "id": "VtAyZ-bqw8g1"
      },
      "execution_count": 26,
      "outputs": []
    },
    {
      "cell_type": "code",
      "source": [
        "\"\"\"The old man was thin and gaunt with deep wrinkles in the back of his neck. The\n",
        "brown blotches of the benevolent skin cancer the sun brings from its [9] reflection on the\n",
        "tropic sea were on his cheeks.   \"\"\""
      ],
      "metadata": {
        "id": "colIYsNXB6Dj"
      },
      "execution_count": 26,
      "outputs": []
    },
    {
      "cell_type": "code",
      "source": [
        "text = \"“Yes,” the boy said. “Can I offer you a beer on\"\n",
        "for i in range(10):\n",
        "  token_text = tokenizer.texts_to_sequences([text])[0]\n",
        "\n",
        "  padded_token_text = pad_sequences([token_text], maxlen = 258, padding = \"pre\")\n",
        "  pos = np.argmax(model.predict(padded_token_text))\n",
        "\n",
        "  for word, index in tokenizer.word_index.items():\n",
        "    if index == pos:\n",
        "      text = text + \" \" + word\n",
        "      print(text)\n",
        "      time.sleep(2)"
      ],
      "metadata": {
        "colab": {
          "base_uri": "https://localhost:8080/"
        },
        "id": "AZ9y0NhZ-Va0",
        "outputId": "5b44463d-f5f6-4cf2-8708-fcb335055187"
      },
      "execution_count": 29,
      "outputs": [
        {
          "output_type": "stream",
          "name": "stdout",
          "text": [
            "\u001b[1m1/1\u001b[0m \u001b[32m━━━━━━━━━━━━━━━━━━━━\u001b[0m\u001b[37m\u001b[0m \u001b[1m0s\u001b[0m 33ms/step\n",
            "“Yes,” the boy said. “Can I offer you a beer on the\n",
            "\u001b[1m1/1\u001b[0m \u001b[32m━━━━━━━━━━━━━━━━━━━━\u001b[0m\u001b[37m\u001b[0m \u001b[1m0s\u001b[0m 34ms/step\n",
            "“Yes,” the boy said. “Can I offer you a beer on the terrace\n",
            "\u001b[1m1/1\u001b[0m \u001b[32m━━━━━━━━━━━━━━━━━━━━\u001b[0m\u001b[37m\u001b[0m \u001b[1m0s\u001b[0m 34ms/step\n",
            "“Yes,” the boy said. “Can I offer you a beer on the terrace and\n",
            "\u001b[1m1/1\u001b[0m \u001b[32m━━━━━━━━━━━━━━━━━━━━\u001b[0m\u001b[37m\u001b[0m \u001b[1m0s\u001b[0m 48ms/step\n",
            "“Yes,” the boy said. “Can I offer you a beer on the terrace and then\n",
            "\u001b[1m1/1\u001b[0m \u001b[32m━━━━━━━━━━━━━━━━━━━━\u001b[0m\u001b[37m\u001b[0m \u001b[1m0s\u001b[0m 36ms/step\n",
            "“Yes,” the boy said. “Can I offer you a beer on the terrace and then we’ll\n",
            "\u001b[1m1/1\u001b[0m \u001b[32m━━━━━━━━━━━━━━━━━━━━\u001b[0m\u001b[37m\u001b[0m \u001b[1m0s\u001b[0m 36ms/step\n",
            "“Yes,” the boy said. “Can I offer you a beer on the terrace and then we’ll take\n",
            "\u001b[1m1/1\u001b[0m \u001b[32m━━━━━━━━━━━━━━━━━━━━\u001b[0m\u001b[37m\u001b[0m \u001b[1m0s\u001b[0m 35ms/step\n",
            "“Yes,” the boy said. “Can I offer you a beer on the terrace and then we’ll take the\n",
            "\u001b[1m1/1\u001b[0m \u001b[32m━━━━━━━━━━━━━━━━━━━━\u001b[0m\u001b[37m\u001b[0m \u001b[1m0s\u001b[0m 34ms/step\n",
            "“Yes,” the boy said. “Can I offer you a beer on the terrace and then we’ll take the stuff\n",
            "\u001b[1m1/1\u001b[0m \u001b[32m━━━━━━━━━━━━━━━━━━━━\u001b[0m\u001b[37m\u001b[0m \u001b[1m0s\u001b[0m 51ms/step\n",
            "“Yes,” the boy said. “Can I offer you a beer on the terrace and then we’ll take the stuff home\n",
            "\u001b[1m1/1\u001b[0m \u001b[32m━━━━━━━━━━━━━━━━━━━━\u001b[0m\u001b[37m\u001b[0m \u001b[1m0s\u001b[0m 33ms/step\n",
            "“Yes,” the boy said. “Can I offer you a beer on the terrace and then we’ll take the stuff home ”\n"
          ]
        }
      ]
    },
    {
      "cell_type": "code",
      "source": [],
      "metadata": {
        "id": "G3-MctHk_pX-"
      },
      "execution_count": null,
      "outputs": []
    }
  ]
}